{
 "cells": [
  {
   "cell_type": "code",
   "execution_count": 1,
   "id": "e8934031",
   "metadata": {},
   "outputs": [],
   "source": [
    "import os\n",
    "import math\n",
    "\n",
    "\n",
    "import torch\n",
    "import torchvision\n",
    "\n",
    "import ipywidgets as widgets\n",
    "import matplotlib.pyplot as plt\n",
    "\n",
    "from determined.experimental import Checkpoint\n",
    "from torchvision.utils import make_grid\n",
    "\n",
    "to_pil = torchvision.transforms.ToPILImage()"
   ]
  },
  {
   "cell_type": "code",
   "execution_count": 2,
   "id": "66da0870",
   "metadata": {},
   "outputs": [],
   "source": [
    "def shift_image_range(images: torch.Tensor, range_in=(-1, 1), range_out=(0, 1)):\n",
    "    images = images.clone()\n",
    "    images.detach_()\n",
    "\n",
    "    scale = (range_out[1] - range_out[0]) / (range_in[1] - range_in[0])\n",
    "    bias = range_out[0] - range_in[0] * scale\n",
    "    images = images * scale + bias\n",
    "    images.clamp_(min=range_out[0], max=range_out[1])\n",
    "\n",
    "    return images"
   ]
  },
  {
   "cell_type": "code",
   "execution_count": 3,
   "id": "39cf0ffe",
   "metadata": {},
   "outputs": [],
   "source": [
    "def generate_images(checkpoint, z, out_path='../outputs'):\n",
    "    num_rows = int(math.sqrt(num_images))\n",
    "    name = checkpoint.split('/')[-1]\n",
    "    \n",
    "    print(name)\n",
    "    print()\n",
    "    \n",
    "    \n",
    "    trail = Checkpoint.load_from_path(checkpoint, map_location=torch.device('cpu'))\n",
    "    generator = trail.generator.eval()\n",
    "    \n",
    "    images = shift_image_range(generator(z))\n",
    "    grid = to_pil(make_grid(images, nrow=num_rows))\n",
    "    grid.save(f'{out_path}/{name}.png')\n",
    "\n",
    "    \n",
    "    fig, axes = plt.subplots(dpi=200, figsize=(6, 6))\n",
    "    plt.imshow(grid)\n",
    "    plt.show()"
   ]
  },
  {
   "cell_type": "code",
   "execution_count": 4,
   "id": "fa281756",
   "metadata": {},
   "outputs": [
    {
     "data": {
      "application/vnd.jupyter.widget-view+json": {
       "model_id": "98acef7f3d964215a5facf6a60cdf7d5",
       "version_major": 2,
       "version_minor": 0
      },
      "text/plain": [
       "Dropdown(description='Checkpoints:', layout=Layout(width='500px'), options=('---', '../checkpoints/01_batch_no…"
      ]
     },
     "metadata": {},
     "output_type": "display_data"
    },
    {
     "data": {
      "application/vnd.jupyter.widget-view+json": {
       "model_id": "8fd6a33798ca4e48ba0419e3155c5063",
       "version_major": 2,
       "version_minor": 0
      },
      "text/plain": [
       "Output()"
      ]
     },
     "metadata": {},
     "output_type": "display_data"
    }
   ],
   "source": [
    "num_images = 25\n",
    "z = torch.randn(num_images, 128, 1, 1)\n",
    "\n",
    "checkpoints_path = '../checkpoints'\n",
    "\n",
    "checkpoints_paths = [f.path for f in os.scandir(checkpoints_path) if f.is_dir()]\n",
    "checkpoints_paths.sort()\n",
    "\n",
    "dropdown = widgets.Dropdown(\n",
    "    options=['---', *checkpoints_paths],\n",
    "    value='---',\n",
    "    description='Checkpoints:',\n",
    "    disabled=False,\n",
    "    layout={'width': '500px'}\n",
    ")\n",
    "\n",
    "output = widgets.Output()\n",
    "\n",
    "\n",
    "def on_dropdown_change(event):\n",
    "    if event['type'] == 'change' and event['name'] == 'value':\n",
    "        with output:\n",
    "            output.clear_output()\n",
    "            if event['new'] != '---':\n",
    "                generate_images(event['new'], z)\n",
    "            else:\n",
    "                print('Pleases select a valid checkpoint!')\n",
    "\n",
    "dropdown.observe(on_dropdown_change)\n",
    "\n",
    "display(dropdown)\n",
    "display(output)"
   ]
  }
 ],
 "metadata": {
  "kernelspec": {
   "display_name": "Python 3 (ipykernel)",
   "language": "python",
   "name": "python3"
  },
  "language_info": {
   "codemirror_mode": {
    "name": "ipython",
    "version": 3
   },
   "file_extension": ".py",
   "mimetype": "text/x-python",
   "name": "python",
   "nbconvert_exporter": "python",
   "pygments_lexer": "ipython3",
   "version": "3.7.10"
  }
 },
 "nbformat": 4,
 "nbformat_minor": 5
}
